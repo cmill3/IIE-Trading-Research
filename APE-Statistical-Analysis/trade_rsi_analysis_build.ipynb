{
 "cells": [
  {
   "cell_type": "code",
   "execution_count": 6,
   "metadata": {},
   "outputs": [],
   "source": [
    "import pandas as pd\n",
    "import numpy as np\n",
    "import requests\n",
    "from datetime import datetime, timedelta\n",
    "import pytz\n",
    "import json\n",
    "import ta_formulas as ta\n",
    "from requests.adapters import HTTPAdapter\n",
    "from requests.packages.urllib3.util.retry import Retry\n",
    "import boto3\n",
    "import ast\n",
    "\n",
    "s3 = boto3.client('s3')"
   ]
  },
  {
   "cell_type": "code",
   "execution_count": 9,
   "metadata": {},
   "outputs": [],
   "source": [
    "def pull_closed_orders_s3(path, bucket):\n",
    "    dfs = []\n",
    "    keys = s3.list_objects(Bucket=bucket,Prefix=f\"{path}\")[\"Contents\"]\n",
    "    for object in keys:\n",
    "        key = object['Key']\n",
    "        dataset = s3.get_object(Bucket=bucket,Key=f\"{key}\")\n",
    "        df = pd.read_csv(dataset.get(\"Body\"))\n",
    "        df.drop(columns=['Unnamed: 0'],inplace=True)\n",
    "        if len(df) > 0:\n",
    "            dfs.append(df)\n",
    "    full_df = pd.concat(dfs)\n",
    "    full_df.reset_index(drop=True)\n",
    "    return full_df"
   ]
  },
  {
   "cell_type": "code",
   "execution_count": 10,
   "metadata": {},
   "outputs": [
    {
     "data": {
      "text/html": [
       "<div>\n",
       "<style scoped>\n",
       "    .dataframe tbody tr th:only-of-type {\n",
       "        vertical-align: middle;\n",
       "    }\n",
       "\n",
       "    .dataframe tbody tr th {\n",
       "        vertical-align: top;\n",
       "    }\n",
       "\n",
       "    .dataframe thead th {\n",
       "        text-align: right;\n",
       "    }\n",
       "</style>\n",
       "<table border=\"1\" class=\"dataframe\">\n",
       "  <thead>\n",
       "    <tr style=\"text-align: right;\">\n",
       "      <th></th>\n",
       "      <th>open_order_id</th>\n",
       "      <th>closing_order_id</th>\n",
       "      <th>option_symbol</th>\n",
       "      <th>position_id</th>\n",
       "    </tr>\n",
       "  </thead>\n",
       "  <tbody>\n",
       "    <tr>\n",
       "      <th>0</th>\n",
       "      <td>10831957</td>\n",
       "      <td>10832538</td>\n",
       "      <td>UBER240322C00079000</td>\n",
       "      <td>UBER-CDBFC1D-2024-03-18T15-05</td>\n",
       "    </tr>\n",
       "    <tr>\n",
       "      <th>1</th>\n",
       "      <td>10831962</td>\n",
       "      <td>10832541</td>\n",
       "      <td>UBER240322C00080000</td>\n",
       "      <td>UBER-CDBFC1D-2024-03-18T15-05</td>\n",
       "    </tr>\n",
       "    <tr>\n",
       "      <th>0</th>\n",
       "      <td>10831952</td>\n",
       "      <td>10833538</td>\n",
       "      <td>IWM240322C00209000</td>\n",
       "      <td>IWM-CDBFC1D-2024-03-18T15-05</td>\n",
       "    </tr>\n",
       "    <tr>\n",
       "      <th>0</th>\n",
       "      <td>10835525</td>\n",
       "      <td>10846786</td>\n",
       "      <td>SNOW240322C00170000</td>\n",
       "      <td>SNOW-CDBFC1D-2024-03-18T17-07</td>\n",
       "    </tr>\n",
       "    <tr>\n",
       "      <th>1</th>\n",
       "      <td>10833362</td>\n",
       "      <td>10846791</td>\n",
       "      <td>SNOW240322C00170000</td>\n",
       "      <td>SNOW-CDBFC1D-2024-03-18T16-06</td>\n",
       "    </tr>\n",
       "  </tbody>\n",
       "</table>\n",
       "</div>"
      ],
      "text/plain": [
       "   open_order_id  closing_order_id        option_symbol  \\\n",
       "0       10831957          10832538  UBER240322C00079000   \n",
       "1       10831962          10832541  UBER240322C00080000   \n",
       "0       10831952          10833538   IWM240322C00209000   \n",
       "0       10835525          10846786  SNOW240322C00170000   \n",
       "1       10833362          10846791  SNOW240322C00170000   \n",
       "\n",
       "                     position_id  \n",
       "0  UBER-CDBFC1D-2024-03-18T15-05  \n",
       "1  UBER-CDBFC1D-2024-03-18T15-05  \n",
       "0   IWM-CDBFC1D-2024-03-18T15-05  \n",
       "0  SNOW-CDBFC1D-2024-03-18T17-07  \n",
       "1  SNOW-CDBFC1D-2024-03-18T16-06  "
      ]
     },
     "execution_count": 10,
     "metadata": {},
     "output_type": "execute_result"
    }
   ],
   "source": [
    "path = 'closed_orders/PROD_VAL/CDBFC_1D'\n",
    "bucket = 'inv-alerts-trading-data'\n",
    "\n",
    "df = pull_closed_orders_s3(path, bucket)\n",
    "\n",
    "df.head()"
   ]
  },
  {
   "cell_type": "code",
   "execution_count": 11,
   "metadata": {},
   "outputs": [],
   "source": [
    "orders_list = df['open_order_id'].to_list()"
   ]
  },
  {
   "cell_type": "code",
   "execution_count": 21,
   "metadata": {},
   "outputs": [],
   "source": [
    "client = boto3.client('dynamodb')\n",
    "\n",
    "def extract_values_from_dict(d):\n",
    "    return list(d.values())[0] if isinstance(d, dict) else d\n",
    "\n",
    "def get_open_trades_by_orderid(order_id_list):\n",
    "    partitions = break_array_into_partitions(order_id_list)\n",
    "    df_list = []\n",
    "    error_list = []\n",
    "    for partition in partitions:\n",
    "        try:\n",
    "            response = client.batch_get_item(\n",
    "                RequestItems={\n",
    "                    'icarus-closed-orders-table-inv': {\n",
    "                        'Keys': [{'order_id': {'S': str(id)}} for id in partition]\n",
    "                    }\n",
    "                }\n",
    "            )\n",
    "            \n",
    "            items = response['Responses']['icarus-closed-orders-table-inv']\n",
    "            result_df = pd.DataFrame(items)\n",
    "            result_df = result_df.map(extract_values_from_dict)\n",
    "            df_list.append(result_df)\n",
    "        except:\n",
    "            error_list.append(partition)\n",
    "    full_df = pd.concat(df_list)\n",
    "    return full_df, error_list\n",
    "\n",
    "def break_array_into_partitions(arr):\n",
    "    \"\"\"\n",
    "    Breaks an array into equal partitions of less than 100 items each.\n",
    "\n",
    "    Args:\n",
    "        arr (list): The input array.\n",
    "\n",
    "    Returns:\n",
    "        list: A list of partitions, where each partition is a list of items.\n",
    "    \"\"\"\n",
    "    if len(arr) <= 100:\n",
    "        # If the array has 100 or fewer items, return it as-is\n",
    "        return [arr]\n",
    "    else:\n",
    "        # Calculate the number of partitions needed\n",
    "        num_partitions = (len(arr) + 99) // 100  # Round up to the nearest integer\n",
    "\n",
    "        # Calculate the size of each partition\n",
    "        partition_size = len(arr) // num_partitions\n",
    "\n",
    "        # Initialize the starting index and ending index for each partition\n",
    "        start = 0\n",
    "        end = partition_size\n",
    "\n",
    "        # Create the partitions\n",
    "        partitions = []\n",
    "        for i in range(num_partitions):\n",
    "            # If it's the last partition, include any remaining items\n",
    "            if i == num_partitions - 1:\n",
    "                partitions.append(arr[start:])\n",
    "            else:\n",
    "                partitions.append(arr[start:end])\n",
    "\n",
    "            # Update the starting and ending index for the next partition\n",
    "            start = end\n",
    "            end += partition_size\n",
    "\n",
    "        return partitions"
   ]
  },
  {
   "cell_type": "code",
   "execution_count": 22,
   "metadata": {},
   "outputs": [
    {
     "name": "stderr",
     "output_type": "stream",
     "text": [
      "/var/folders/dy/0184f__n1gndgrhsxps0zl4c0000gn/T/ipykernel_49264/4147048398.py:22: FutureWarning: DataFrame.applymap has been deprecated. Use DataFrame.map instead.\n",
      "  result_df = result_df.applymap(extract_values_from_dict)\n"
     ]
    },
    {
     "name": "stdout",
     "output_type": "stream",
     "text": [
      "[[11573106, 11573109, 11585299, 11575765, 11585286, 11585288, 11585266, 11585268, 11585264, 11585285, 11586987, 11586985, 11586986, 11585250, 11576771, 11586997, 11586992, 11586995, 11586994, 11585252, 11586991, 11586984, 11585300, 11585272, 11585273, 11585270, 11585302, 11588139, 11586990, 11588137, 11585277, 11588138, 11586988, 11585283, 11585281, 11585275, 11585279, 11588135, 11588141, 11589108, 11585262, 11588130, 11585257, 11585259, 11573115, 11588127, 11588133, 11589124, 11586983, 11585304, 11589122, 11585247, 11589111, 11589119, 11588144, 11588142, 11589120, 11589109, 11589104, 11589117, 11574793, 11589113, 11585306, 11573116, 11589106, 11590022, 11590005, 11590024, 11589128, 11589126, 11590007, 11590008, 11589129, 11590026, 11588147, 11585308, 11590031, 11590011, 11590012, 11585311, 11590010, 11590033, 11588148, 11588150, 11585313, 11590036, 11590028, 11585294, 11585290, 11585292, 11591138, 11591135, 11591139, 11591141, 11591133, 11590020, 11591154, 11590017, 11591128, 11591125, 11591127, 11591132, 11591134, 11591143, 11591131, 11591145, 11591129, 11591126, 11591130, 11585316, 11590015, 11591152, 11591149, 11591148, 11598643, 11598644, 11598642, 11599658, 11599661, 11599659, 11599700, 11598652, 11598651]]\n"
     ]
    }
   ],
   "source": [
    "orders_df, errors = get_open_trades_by_orderid(orders_list)\n",
    "print(len(orders_list)\n",
    "print(len(errors))"
   ]
  }
 ],
 "metadata": {
  "kernelspec": {
   "display_name": "APE-Research-redlN2ZV",
   "language": "python",
   "name": "python3"
  },
  "language_info": {
   "codemirror_mode": {
    "name": "ipython",
    "version": 3
   },
   "file_extension": ".py",
   "mimetype": "text/x-python",
   "name": "python",
   "nbconvert_exporter": "python",
   "pygments_lexer": "ipython3",
   "version": "3.9.10"
  }
 },
 "nbformat": 4,
 "nbformat_minor": 2
}
